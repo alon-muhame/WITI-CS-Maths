{
 "cells": [
  {
   "cell_type": "markdown",
   "id": "a8e5c639",
   "metadata": {},
   "source": [
    "# Probability Questions"
   ]
  },
  {
   "cell_type": "markdown",
   "id": "0c7e8502",
   "metadata": {},
   "source": [
    "Question 1. Which of the following Expressions below correspond to the statement: `the probability of rain on Monday`?\n"
   ]
  },
  {
   "cell_type": "markdown",
   "id": "6efc1e1f",
   "metadata": {},
   "source": [
    "(1) Pr(rain)\n",
    "\n",
    "(2) Pr(rain|Monday)\n",
    "\n",
    "(3) Pr(Monday|rain)\n",
    "\n",
    "(4) Pr(rain, Monday)/Pr(Monday)"
   ]
  },
  {
   "cell_type": "markdown",
   "id": "bc08cd83",
   "metadata": {},
   "source": [
    "Question 2. Which of the following Expressions below correspond to the statement: `Pr(Monday|rain)`?\n"
   ]
  },
  {
   "cell_type": "markdown",
   "id": "b97d406d",
   "metadata": {},
   "source": [
    "(1) The Probability of rain on Monday\n",
    "\n",
    "(2) The Probability of rain given that it is Monday\n",
    "\n",
    "(3) The Probability that it is Monday, given that it is raining\n",
    "\n",
    "(4) The probability that it is Monday and that it is raining"
   ]
  },
  {
   "cell_type": "markdown",
   "id": "c959e656",
   "metadata": {},
   "source": [
    "Question 3. Which of the following Expressions below correspond to the statement: `the probability that it is Monday given that it is raining`?\n"
   ]
  },
  {
   "cell_type": "markdown",
   "id": "5ac7bb87",
   "metadata": {},
   "source": [
    "(1) Pr(Monday|rain)\n",
    "\n",
    "(2) Pr(rain|Monday)\n",
    "\n",
    "(3) Pr(rain|Monday)Pr(Monday)\n",
    "\n",
    "(4) Pr(Monday|rain) Pr(rain)/Pr(Monday)"
   ]
  },
  {
   "cell_type": "markdown",
   "id": "367ddcd2",
   "metadata": {},
   "source": [
    "Question 4: A professor thinks students who live on campus are more likely to get `A`s in the probability course. To check this theory, the professor combines the data from the past few years. 600 students have taken the course, 120 students have gotten As, 200 students lived on campus, 80 students lived off campus and got As. \n",
    "\n",
    " (a). If events `A` and `B` are independent. What is the condition for two events A and B, to be independent?\n",
    "\n",
    "(1) Pr(AnB) = Pr(A)+Pr(B)\n",
    "\n",
    "(2) Pr(AnB) = Pr(A) * Pr(B) - Pr(AnB)\n",
    "\n",
    "(3) Pr(AnB) = Pr(A) * Pr(B)\n",
    "\n",
    "(4) Pr(AnB) = (Pr(A) * Pr(B))/(Pr(B))"
   ]
  },
  {
   "cell_type": "markdown",
   "id": "8927f6e4",
   "metadata": {},
   "source": [
    " (b). Does this data suggest that \"getting an A\" and \"living on campus\" are dependent or independent?  \n",
    " \n",
    " (1) Agree\n",
    " \n",
    " (2) Disagree\n",
    " \n",
    " (3) Neutral \n",
    " \n",
    " (4) Insufficient Information provided"
   ]
  },
  {
   "cell_type": "markdown",
   "id": "6f43b07f",
   "metadata": {},
   "source": [
    "Question 5: Suppose that I want to purchase a smart phone. I can choose either a large or a small screen; a 64GB, 128GB, or 256GB storage capacity, and a black or white cover. \n",
    "\n",
    "(a).\tHow many different options do I have?\n",
    "\n",
    " (1) 12\n",
    " \n",
    " (2) 0\n",
    " \n",
    " (3) 9/10 \n",
    " \n",
    " (4) Insufficient Information provided\n"
   ]
  },
  {
   "cell_type": "markdown",
   "id": "05a89e97",
   "metadata": {},
   "source": [
    "Question 6: A block of 100 bits is trasmitted in a binary channel with a probability of bit error `P= 0.002`\n",
    "\n",
    "(a) If the block has 1 or fewer errors,then the receiver accepts the block. What is the `probability` that the block is accepted?\n",
    "\n",
    "(1) 0.735\n",
    "\n",
    "(2) 0.501\n",
    "\n",
    "(3) 0.350\n",
    "\n",
    "(4) 0.100"
   ]
  },
  {
   "cell_type": "markdown",
   "id": "4595d475",
   "metadata": {},
   "source": [
    "(b) If the block has more that 1 errors, then the block is retrasmitted.\n",
    "What is the `probability` that 4 blocks are trasmitted?\n",
    "\n",
    "(1) 0.013\n",
    "\n",
    "(2) 0.0350\n",
    "\n",
    "(3) 0.430\n",
    "\n",
    "(4) 0.500"
   ]
  }
 ],
 "metadata": {
  "kernelspec": {
   "display_name": "Python 3 (ipykernel)",
   "language": "python",
   "name": "python3"
  },
  "language_info": {
   "codemirror_mode": {
    "name": "ipython",
    "version": 3
   },
   "file_extension": ".py",
   "mimetype": "text/x-python",
   "name": "python",
   "nbconvert_exporter": "python",
   "pygments_lexer": "ipython3",
   "version": "3.9.12"
  }
 },
 "nbformat": 4,
 "nbformat_minor": 5
}
